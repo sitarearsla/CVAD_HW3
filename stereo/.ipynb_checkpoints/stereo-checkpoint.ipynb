{
 "cells": [
  {
   "cell_type": "markdown",
   "metadata": {
    "id": "NGI84rsSoYvC"
   },
   "source": [
    "# Stereo Estimation\n",
    "\n",
    "If you are working in Colab,\n",
    "*   Open Files from left\n",
    "*   Drag and drop `Week2_Stereo.zip` there (or click upload icon on top left). Upload can take a few minutes.\n",
    "*   Unzip the file by running the following cell.\n",
    "\n"
   ]
  },
  {
   "cell_type": "code",
   "execution_count": null,
   "metadata": {
    "id": "reJ9VBXSkpJT"
   },
   "outputs": [],
   "source": [
    "!unzip Week2_Stereo.zip\n",
    "%cd Week2_Stereo"
   ]
  },
  {
   "cell_type": "markdown",
   "metadata": {
    "id": "Xd-UcIY3kqBs"
   },
   "source": [
    "*   If you get disconnected from the runtime, you might need to upload this file again. Also, note that this is valid for other local files too eg. repos that have been cloned, files generated during execution etc. In short, if you see that your files are gone after a while, just run the cell that generates, clones, etc. the missing files again."
   ]
  },
  {
   "cell_type": "markdown",
   "metadata": {
    "id": "LgZC0Entx1tj"
   },
   "source": [
    "## Part A: Terminology"
   ]
  },
  {
   "cell_type": "markdown",
   "metadata": {
    "id": "MMhF53abyFsC"
   },
   "source": [
    "### Question 1: Depth vs. Disparity\n",
    "\n",
    "What is the difference between *depth* and *disparity*? How are they related to each other **mathematically**?"
   ]
  },
  {
   "cell_type": "markdown",
   "metadata": {
    "id": "BGxYa_NTriIk"
   },
   "source": [
    "**Answer**: "
   ]
  },
  {
   "cell_type": "markdown",
   "metadata": {
    "id": "r7fcS5m14h0x"
   },
   "source": [
    "### Question 2: Calibrated Two-View Geometry\n",
    "\n",
    "What do we assume to know in calibrated two-view geometry?"
   ]
  },
  {
   "cell_type": "markdown",
   "metadata": {
    "id": "e3Fsiel_hgHs"
   },
   "source": [
    "**Answer**:"
   ]
  },
  {
   "cell_type": "markdown",
   "metadata": {
    "id": "uGhT5gFM4CaK"
   },
   "source": [
    "### Question 3: Epipolar Geometry\n",
    "\n",
    "Define the following terms related to epipolar geometry in your own sentences. Feel free to use the figure from the class, somewhere else, or draw a figure and uplaod its photo."
   ]
  },
  {
   "cell_type": "markdown",
   "metadata": {
    "id": "KLfV61JF4G6d"
   },
   "source": [
    "* **Epipolar Line**:\n",
    "* **Epipolar Plane**:\n",
    "* **Epipole**:\n",
    "* **Projection and Backprojection**:\n",
    "* **Baseline**:"
   ]
  },
  {
   "cell_type": "markdown",
   "metadata": {
    "id": "opAAxRLI4HDt"
   },
   "source": [
    "### Question 3: Rectification\n",
    "\n",
    "What is *rectification* and why do we do it? Find out an example of a rectification process from the literature, e.g. how is it performed on KITTI?"
   ]
  },
  {
   "cell_type": "markdown",
   "metadata": {
    "id": "gB89TcIuWWsH"
   },
   "source": [
    "**Answer:** "
   ]
  },
  {
   "cell_type": "markdown",
   "metadata": {
    "id": "JAB9MPnv4HHr"
   },
   "source": [
    "### Question 4: Comparisons\n",
    "\n",
    "1. What is the difference between *sparse* vs. *dense* methods? What is the historical reason for starting with sparse methods?\n",
    "2. What is the difference between *local* vs. *global* methods? What is the historical reason for starting with local methods?"
   ]
  },
  {
   "cell_type": "markdown",
   "metadata": {
    "id": "hsYDswUilxsf",
    "outputId": "98b9472f-f2e5-4064-92fe-da16bb6ce180"
   },
   "source": [
    "**Answer**:"
   ]
  },
  {
   "cell_type": "markdown",
   "metadata": {
    "id": "4zj0195PsLG5"
   },
   "source": [
    "### Question 5: Winner Takes All (WTA)\n",
    "\n",
    "Whar is the Winner Takes All (WTA) and how can it be used as the simplest optimizer for stereo estimation? \n",
    "* Why is it an attractive solution, especially historically?\n",
    "* What are the potential problems with the WTA minimizer?"
   ]
  },
  {
   "cell_type": "markdown",
   "metadata": {
    "id": "y3NM9AZIslR3"
   },
   "source": [
    "**Answer**: "
   ]
  },
  {
   "cell_type": "markdown",
   "metadata": {
    "id": "ecgRZVTpsd5r"
   },
   "source": [
    "### Question 6: Matching\n",
    "\n",
    "Explain the following concepts in your own sentences."
   ]
  },
  {
   "cell_type": "markdown",
   "metadata": {
    "id": "2oAF470qsgPG"
   },
   "source": [
    "* **Brightness Constancy**:\n",
    "* **Matching Cost Function**:\n",
    "* **Matching Ambiguity**:\n",
    "* **Robust Cost Function**:\n",
    "* **Cost Volume**:"
   ]
  },
  {
   "cell_type": "markdown",
   "metadata": {
    "id": "9MkL-hvLriIm"
   },
   "source": [
    "### Question 7: Belief Propagation (BP)\n",
    "\n",
    "1. What is the point of BP or global reasoning with a graphical model in general?\n",
    "2. What is the difference between max-product and sum-product algorithms? In which cases do we use each?\n",
    "3. Why is the image graph loopy? What is the problem with loopy graphs?\n",
    "4. Why do we work in the logarithmic domain? How do we go from probabilities to energy terms?\n",
    "5. What is conditional in Conditional Random Field (CRF) model in case of stereo? In other words, what do we condition on?"
   ]
  },
  {
   "cell_type": "markdown",
   "metadata": {
    "id": "Tnyf0VhlriIm"
   },
   "source": [
    "**Answers**:"
   ]
  },
  {
   "cell_type": "markdown",
   "metadata": {
    "id": "QKVyVJ4XriIm"
   },
   "source": [
    "### Question 8: Semi-Global Matching (SGM)\n",
    "\n",
    "Explain the two-level penalisation in SGM and comment on why it might work better than a regular smoothness function."
   ]
  },
  {
   "cell_type": "markdown",
   "metadata": {
    "id": "u6CAOo0eriIm"
   },
   "source": [
    "**Answer**:"
   ]
  },
  {
   "cell_type": "markdown",
   "metadata": {
    "id": "bhPOsH8rriIm"
   },
   "source": [
    "### Question 9: Planarity\n",
    "\n",
    "Why do we want to model planes in stereo estimation? Is it better or worse computationally? Does it work as regularizer, how?"
   ]
  },
  {
   "cell_type": "markdown",
   "metadata": {
    "id": "ysXGsj8OriIm"
   },
   "source": [
    "**Answer**:"
   ]
  },
  {
   "cell_type": "markdown",
   "metadata": {
    "id": "-2mWV70GriIm"
   },
   "source": [
    "### Questions 10: Learning Patch Matching vs. Learning a Cost Volume\n",
    "\n",
    "Compare the patch matching approach proposed in [Zbontar2016JMLR] vs. cost volume learning approach proposed in [Kendall2017ICCV]. "
   ]
  },
  {
   "cell_type": "markdown",
   "metadata": {
    "id": "dtCA3ZTJriIm"
   },
   "source": [
    "**Answer**:"
   ]
  },
  {
   "cell_type": "markdown",
   "metadata": {
    "id": "QNQSCHGQriIn"
   },
   "source": [
    "### Question 11: State-of-the-art (SOTA) on KITTI\n",
    "\n",
    "Check out a few top-performing methods on the KITTI benchmark. What are the common factors among these methods? Also, check out both the quantitative and qualitative results on the benchmark page. What kind of mistakes do they make, can you see a pattern?"
   ]
  },
  {
   "cell_type": "markdown",
   "metadata": {
    "id": "QJasSdWtriIn"
   },
   "source": [
    "**Answer**:"
   ]
  },
  {
   "cell_type": "markdown",
   "metadata": {
    "id": "tNfFwd7nvrm-"
   },
   "source": [
    "## Part B: 3D"
   ]
  },
  {
   "cell_type": "markdown",
   "metadata": {
    "id": "oCg1vNqAo9WJ"
   },
   "source": [
    "### Visualizing 3D data\n",
    "\n",
    "Throughout the course, you will create mesh files (the ones with `ply` extension) for storing 3D data. You can visualize 3D data using a program such as MeshLab or Open3D. We recommend you to visualize `ply` files in your local machine as it is challenging in a notebook.   \n",
    "\n",
    "**MeshLab**:\n",
    "*   Install MeshLab: https://www.meshlab.net/#download\n",
    "*   Visualize ply files: dragging `ply` file into an open MeshLab window should work.\n",
    "\n",
    "**Open3D**:   \n",
    "*   Install Open3D: http://www.open3d.org/docs/release/getting_started.html\n",
    "*   Visualize ply file: http://www.open3d.org/docs/latest/tutorial/Basic/file_io.html#Mesh\n",
    "\n"
   ]
  },
  {
   "cell_type": "code",
   "execution_count": 2,
   "metadata": {
    "id": "-Hau54pIriIn"
   },
   "outputs": [
    {
     "data": {
      "text/plain": [
       "<matplotlib.image.AxesImage at 0x131da8278>"
      ]
     },
     "execution_count": 2,
     "metadata": {},
     "output_type": "execute_result"
    },
    {
     "data": {
      "image/png": "[encoded data removed]",
      "text/plain": [
       "<Figure size 432x288 with 1 Axes>"
      ]
     },
     "metadata": {
      "needs_background": "light"
     },
     "output_type": "display_data"
    }
   ],
   "source": [
    "import matplotlib.pyplot as plt\n",
    "from util import *\n",
    "\n",
    "# load the data\n",
    "leftI = load_image('data/000005_10_left_color.png')\n",
    "rightI = load_image('data/000005_10_right_color.png')\n",
    "dispI_gt = load_disp('data/000005_10_gt.png')\n",
    "max_disp = np.max(dispI_gt)\n",
    "\n",
    "plt.imshow(disp_to_color(dispI_gt, max_disp))"
   ]
  },
  {
   "cell_type": "code",
   "execution_count": null,
   "metadata": {
    "id": "icgFFZARriIn"
   },
   "outputs": [],
   "source": [
    "NUM_DISP = 80\n",
    "WINDOW_SIZE = 7\n",
    "\n",
    "# use OPenCV's StereoSGBM method to compute disparity estimation dispI_est\n",
    "# between the left image and the right image\n",
    "# do not forget to divide the result by 16\n",
    "\n",
    "plt.imshow(disp_to_color(dispI_est, max_disp))"
   ]
  },
  {
   "cell_type": "code",
   "execution_count": 3,
   "metadata": {
    "id": "fZDpR7QsriIn"
   },
   "outputs": [
    {
     "ename": "NameError",
     "evalue": "name 'dispI_est' is not defined",
     "output_type": "error",
     "traceback": [
      "\u001b[0;31m---------------------------------------------------------------------------\u001b[0m",
      "\u001b[0;31mNameError\u001b[0m                                 Traceback (most recent call last)",
      "\u001b[0;32m<ipython-input-3-ba5568fa5a42>\u001b[0m in \u001b[0;36m<module>\u001b[0;34m\u001b[0m\n\u001b[1;32m     21\u001b[0m \u001b[0;34m\u001b[0m\u001b[0m\n\u001b[1;32m     22\u001b[0m \u001b[0mtriangulate\u001b[0m\u001b[0;34m(\u001b[0m\u001b[0mdispI_gt\u001b[0m\u001b[0;34m,\u001b[0m \u001b[0;34m'out/pts_gt.ply'\u001b[0m\u001b[0;34m)\u001b[0m\u001b[0;34m\u001b[0m\u001b[0;34m\u001b[0m\u001b[0m\n\u001b[0;32m---> 23\u001b[0;31m \u001b[0mtriangulate\u001b[0m\u001b[0;34m(\u001b[0m\u001b[0mdispI_est\u001b[0m\u001b[0;34m,\u001b[0m \u001b[0;34m'out/pts_est.ply'\u001b[0m\u001b[0;34m)\u001b[0m\u001b[0;34m\u001b[0m\u001b[0;34m\u001b[0m\u001b[0m\n\u001b[0m\u001b[1;32m     24\u001b[0m \u001b[0;34m\u001b[0m\u001b[0m\n\u001b[1;32m     25\u001b[0m \u001b[0mprint\u001b[0m\u001b[0;34m(\u001b[0m\u001b[0;34m'done!'\u001b[0m\u001b[0;34m)\u001b[0m\u001b[0;34m\u001b[0m\u001b[0;34m\u001b[0m\u001b[0m\n",
      "\u001b[0;31mNameError\u001b[0m: name 'dispI_est' is not defined"
     ]
    }
   ],
   "source": [
    "### KITTI parameters ###\n",
    "f = 718.86\n",
    "cx = 607.19\n",
    "cy = 185.22\n",
    "B = 0.537\n",
    "\n",
    "# triangulate 3D Points\n",
    "all_colors = cv2.cvtColor(leftI, cv2.COLOR_BGR2RGB)\n",
    "height, width = leftI.shape[:2]\n",
    "\n",
    "def triangulate(dispI, fn):\n",
    "    points = []\n",
    "    colors = []\n",
    "\n",
    "    # compute the 3D points for the given disparity image and their corresponding colors\n",
    "    # by implementing triangulation (back-projection)\n",
    "\n",
    "    points = np.array(points)\n",
    "    colors = np.array(colors)\n",
    "    write2ply(points, colors, fn)\n",
    "    \n",
    "triangulate(dispI_gt, 'out/pts_gt.ply')\n",
    "triangulate(dispI_est, 'out/pts_est.ply')\n",
    "\n",
    "print('done!')"
   ]
  },
  {
   "cell_type": "markdown",
   "metadata": {
    "id": "G8o4AiYMriIo"
   },
   "source": [
    "Visualize the 3D point clouds using MeshLab or Open3D. Note that you might have to rotate the point cloud a little bit until you can make sense of it, especially with the estimated disparity map where there are outliers."
   ]
  },
  {
   "cell_type": "markdown",
   "metadata": {
    "id": "Fqmj60tMriIo"
   },
   "source": [
    "**Bonus**: Implement the outlier ratio metric of the KITTI to evaluate the estimation quantitatively."
   ]
  }
 ],
 "metadata": {
  "colab": {
   "collapsed_sections": [],
   "name": "Week2_Stereo.ipynb",
   "provenance": [],
   "toc_visible": true
  },
  "kernelspec": {
   "display_name": "Python 3",
   "language": "python",
   "name": "python3"
  },
  "language_info": {
   "codemirror_mode": {
    "name": "ipython",
    "version": 3
   },
   "file_extension": ".py",
   "mimetype": "text/x-python",
   "name": "python",
   "nbconvert_exporter": "python",
   "pygments_lexer": "ipython3",
   "version": "3.8.5"
  }
 },
 "nbformat": 4,
 "nbformat_minor": 4
}
